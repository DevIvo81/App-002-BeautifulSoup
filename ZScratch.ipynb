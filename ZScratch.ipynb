{
 "cells": [
  {
   "attachments": {},
   "cell_type": "markdown",
   "metadata": {},
   "source": [
    "# Beautiful Soup Practice\n",
    "\n",
    "- app_001 - intro\n",
    "- app_002 - search and filter\n",
    "- app_003 - navigate html tree and jsonify weather filtered data"
   ]
  },
  {
   "cell_type": "markdown",
   "metadata": {},
   "source": []
  }
 ],
 "metadata": {
  "kernelspec": {
   "display_name": ".venv",
   "language": "python",
   "name": "python3"
  },
  "language_info": {
   "name": "python",
   "version": "3.10.2 (tags/v3.10.2:a58ebcc, Jan 17 2022, 14:12:15) [MSC v.1929 64 bit (AMD64)]"
  },
  "orig_nbformat": 4,
  "vscode": {
   "interpreter": {
    "hash": "886ea6a1bb7366324a87ee75b0d5842b914acd1cdb61e88bfbd754a7bb0ae2ef"
   }
  }
 },
 "nbformat": 4,
 "nbformat_minor": 2
}
